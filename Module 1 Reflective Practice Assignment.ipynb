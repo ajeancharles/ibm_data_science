{
 "cells": [
  {
   "cell_type": "markdown",
   "metadata": {
    "deletable": false,
    "editable": false,
    "nbgrader": {
     "cell_type": "markdown",
     "checksum": "1f7ae3fffcab0c46325a07ddbfb018cf",
     "grade": false,
     "grade_id": "cell-ce6fcd5a433d832c",
     "locked": true,
     "schema_version": 3,
     "solution": false,
     "task": false
    }
   },
   "source": [
    "# Module 1 Reflective Practice Assignment "
   ]
  },
  {
   "cell_type": "markdown",
   "metadata": {
    "deletable": false,
    "editable": false,
    "nbgrader": {
     "cell_type": "markdown",
     "checksum": "0268d8b4a25d114cfa9e857af315ae50",
     "grade": false,
     "grade_id": "cell-f67ada19e450ece9",
     "locked": true,
     "schema_version": 3,
     "solution": false,
     "task": false
    }
   },
   "source": [
    "Learning statistical methods requires a great amount of critical thinking, problem-solving, and analytical skills. The best way to master these is to practice problems and to reflect on lessons learned in a module.\n",
    "\n",
    "The objective of this assignment is to give you step-by-step instructions for working on additional problems or simply brainstorming ideas to address real-world problem-solving based on the lessons learned in a week.\n",
    "\n",
    "### Instructions:\n",
    "For this week's Reflection Assignment, complete the following tasks below:\n",
    "\n",
    "- Follow the Bus Ridership Case Study. Change at least two assumptions to modify problem. State the modified assumptions.\n",
    "\n",
    "- With modified assumptions, find the probability that no passenger board at the first three stops.\n",
    "\n",
    "- Reflect on what concepts in this module you liked the most and why?\n",
    "\n",
    "- Reflect on what concepts in this module was difficult to grasp?\n",
    "\n",
    "**You have two tool options to complete this activity:**\n",
    "\n",
    "1) **Use Jupyter Notebook:**  We've provided a Jupyter Notebook environment throughout the course for Reflective Activities, as this allows you to run both R Code and write standard text responses in what are called Jupyter Notebook cells below. To use the Jupyter Notebook, add your responses in the indicated areas marked with '''# YOUR CODE HERE'''. You can run your R Code and cells by selecting 'Cell -> Run Cells' in the upper toolbar, or the keyboard shortcut SHIFT + RETURN/ENTER\n",
    "\n",
    "\n",
    "2) **Use RStudio (.r or .Rmd)**: You can the provided RStudio environment or a local version of RStudio to run your R code and add reflection responses."
   ]
  },
  {
   "cell_type": "markdown",
   "metadata": {},
   "source": [
    "1) Probability that each passenger alights from the bus at each stop independently of the actions of others has been changed from 0.2 to 0.5(increased by 30%).\n",
    "\n",
    "2) Probabilities that either 0,1, or 2 passengers board at each stop independently of the actions of others have been changed from 0.5, 0.4, and 0.1 to 0.3, 0.4, and 0.3 respectively."
   ]
  },
  {
   "cell_type": "code",
   "execution_count": 3,
   "metadata": {},
   "outputs": [],
   "source": [
    "# Calculation of Probability that no passengers board at the first three stops:\n",
    "\n",
    "p_zero_board = 0.3\n",
    "\n",
    "# We can use the Multiplicative Law of Probability for Independent Events(and B_1, B_2, and B_3 are zero):\n",
    "\n",
    "p_none_b3stops = p_zero_board ^ 3      # (0.3 * 0.3 * 0.3 for first three stops through multiplicative law)"
   ]
  },
  {
   "cell_type": "markdown",
   "metadata": {
    "deletable": false,
    "editable": false,
    "nbgrader": {
     "cell_type": "markdown",
     "checksum": "d55c880aa750a5f2f00b3b571585a325",
     "grade": false,
     "grade_id": "cell-3b0dbbcabaf1682f",
     "locked": true,
     "schema_version": 3,
     "solution": false,
     "task": false
    }
   },
   "source": [
    "## You can experiment with your R code in the notebook cells below."
   ]
  },
  {
   "cell_type": "markdown",
   "metadata": {},
   "source": [
    "#### Please place all code experimentation above this comment. ####"
   ]
  },
  {
   "cell_type": "markdown",
   "metadata": {
    "deletable": false,
    "editable": false,
    "nbgrader": {
     "cell_type": "markdown",
     "checksum": "55436e9aadd92717a80554e7b83a7c56",
     "grade": false,
     "grade_id": "cell-85861941598b9ebe",
     "locked": true,
     "schema_version": 3,
     "solution": false,
     "task": false
    }
   },
   "source": [
    "## Your Module 1 Reflections"
   ]
  },
  {
   "cell_type": "markdown",
   "metadata": {
    "deletable": false,
    "editable": false,
    "nbgrader": {
     "cell_type": "markdown",
     "checksum": "2f2f05839d054d21fc8bae628de9f3a0",
     "grade": false,
     "grade_id": "cell-2687200cd5b2427c",
     "locked": true,
     "schema_version": 3,
     "solution": false,
     "task": false
    }
   },
   "source": [
    "**GRADED TASK 1:**  What is the  probability that no passenger board at the first three stops?   "
   ]
  },
  {
   "cell_type": "code",
   "execution_count": 5,
   "metadata": {},
   "outputs": [
    {
     "data": {
      "text/html": [
       "0.027"
      ],
      "text/latex": [
       "0.027"
      ],
      "text/markdown": [
       "0.027"
      ],
      "text/plain": [
       "[1] 0.027"
      ]
     },
     "metadata": {},
     "output_type": "display_data"
    }
   ],
   "source": [
    "# Probability that no passengers board at the first three stops:\n",
    "\n",
    "probability <- p_none_b3stops\n",
    "\n",
    "\n",
    "probability"
   ]
  },
  {
   "cell_type": "markdown",
   "metadata": {
    "deletable": false,
    "editable": false,
    "nbgrader": {
     "cell_type": "markdown",
     "checksum": "3e0db3cf8c6cf8c09b7299fd2a7e4bec",
     "grade": false,
     "grade_id": "cell-49382b03a0fd2c25",
     "locked": true,
     "schema_version": 3,
     "solution": false,
     "task": false
    }
   },
   "source": [
    "**GRADED TASK 2:**\n",
    "- Reflect on what concepts in this module you liked the most and why?\n",
    "- Reflect on what concepts in this module was difficult to grasp?"
   ]
  },
  {
   "cell_type": "markdown",
   "metadata": {},
   "source": [
    "I liked the concepts: Conditional Probability and Bayes Theorem the most due to the ability to infer based on past conditions, or update based on new information/evidence. They translate and apply well to solve real world problems(as stated in lecture notes and quizzes). Conditional Probability though robust was harder to connect the dots with between conception and problem-solving. I look forward to lessons building on from the concepts covered in Module 1."
   ]
  },
  {
   "cell_type": "markdown",
   "metadata": {},
   "source": [
    "## Submitting your Reflection\n",
    "\n",
    "This week, your Reflection response will be graded by your Peers. Please continue to the following Step 2: Peer Review item in this module to upload your reflection file and complete the Assignment and receive a grade and feedback on your work. Your reflection will be graded based on completion criteria listed above in the reflection Instructions."
   ]
  }
 ],
 "metadata": {
  "kernelspec": {
   "display_name": "R",
   "language": "R",
   "name": "ir"
  },
  "language_info": {
   "codemirror_mode": "r",
   "file_extension": ".r",
   "mimetype": "text/x-r-source",
   "name": "R",
   "pygments_lexer": "r",
   "version": "3.6.3"
  }
 },
 "nbformat": 4,
 "nbformat_minor": 4
}
